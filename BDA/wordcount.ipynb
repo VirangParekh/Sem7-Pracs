{
  "nbformat": 4,
  "nbformat_minor": 0,
  "metadata": {
    "colab": {
      "name": "wordcount.ipynb",
      "provenance": []
    },
    "kernelspec": {
      "name": "python3",
      "display_name": "Python 3"
    },
    "language_info": {
      "name": "python"
    }
  },
  "cells": [
    {
      "cell_type": "code",
      "metadata": {
        "id": "nOp0A6tJKZDl"
      },
      "source": [
        "!apt-get install openjdk-8-jdk-headless -qq > /dev/null "
      ],
      "execution_count": 1,
      "outputs": []
    },
    {
      "cell_type": "code",
      "metadata": {
        "id": "lGSClbc8NTN_"
      },
      "source": [
        "!wget -q https://archive.apache.org/dist/spark/spark-3.0.0/spark-3.0.0-bin-hadoop3.2.tgz"
      ],
      "execution_count": 2,
      "outputs": []
    },
    {
      "cell_type": "code",
      "metadata": {
        "id": "gEhYy0DaNbiZ"
      },
      "source": [
        "!tar xf spark-3.0.0-bin-hadoop3.2.tgz"
      ],
      "execution_count": 3,
      "outputs": []
    },
    {
      "cell_type": "code",
      "metadata": {
        "id": "tel7fXteNf2l"
      },
      "source": [
        "import os\n",
        "os.environ[\"JAVA_HOME\"] = \"/usr/lib/jvm/java-8-openjdk-amd64\"\n",
        "os.environ[\"SPARK_HOME\"] = \"/content/spark-3.0.0-bin-hadoop3.2\""
      ],
      "execution_count": 4,
      "outputs": []
    },
    {
      "cell_type": "code",
      "metadata": {
        "id": "BPDO0tHrNjA-"
      },
      "source": [
        "!pip install -q findspark"
      ],
      "execution_count": 6,
      "outputs": []
    },
    {
      "cell_type": "code",
      "metadata": {
        "id": "YzOFrouvNp_x"
      },
      "source": [
        "import findspark\n",
        "findspark.init()\n",
        "from pyspark.sql import SparkSession\n",
        "spark = SparkSession.builder.master(\"local[*]\").getOrCreate()\n",
        "from pyspark import SparkContext\n",
        "sc = SparkContext.getOrCreate()\n",
        "from google.colab import drive"
      ],
      "execution_count": 7,
      "outputs": []
    },
    {
      "cell_type": "code",
      "metadata": {
        "colab": {
          "base_uri": "https://localhost:8080/",
          "height": 0
        },
        "id": "naL6JuTWNzZi",
        "outputId": "1b9d59e8-e72a-4607-e955-9459646eb8ff"
      },
      "source": [
        "drive.mount('/content/drive')"
      ],
      "execution_count": 9,
      "outputs": [
        {
          "output_type": "stream",
          "name": "stdout",
          "text": [
            "Mounted at /content/drive\n"
          ]
        }
      ]
    },
    {
      "cell_type": "code",
      "metadata": {
        "id": "PJgGMUjcN52v"
      },
      "source": [
        "import os\n",
        "import urllib.request\n",
        "shkspr=urllib.request.urlretrieve('https://ocw.mit.edu/ans7870/6/6.006/s08/lecturenotes/files/t8.shakespeare.txt','/content/drive/My Drive/shakespeare.txt')"
      ],
      "execution_count": 11,
      "outputs": []
    },
    {
      "cell_type": "code",
      "metadata": {
        "colab": {
          "base_uri": "https://localhost:8080/",
          "height": 0
        },
        "id": "OvsPCcKzOKqV",
        "outputId": "b4209165-673c-4cfc-db82-65a232f266c4"
      },
      "source": [
        "Words=sc.textFile(\"/content/drive/My Drive/shakespeare.txt\")\n",
        "WordsCount=Words.flatMap(lambda line: line.split(\" \")).map(lambda word: (word, 1))\n",
        "WordsCount.count()"
      ],
      "execution_count": 12,
      "outputs": [
        {
          "output_type": "execute_result",
          "data": {
            "text/plain": [
              "1418390"
            ]
          },
          "metadata": {},
          "execution_count": 12
        }
      ]
    },
    {
      "cell_type": "code",
      "metadata": {
        "colab": {
          "base_uri": "https://localhost:8080/",
          "height": 0
        },
        "id": "R_6gSUaLOVq5",
        "outputId": "cd15b8ad-4647-4ab9-d8c8-2f096ee92928"
      },
      "source": [
        "DistinctWordsCount=WordsCount.reduceByKey(lambda a,b: a+b)\n",
        "DistinctWordsCount.count()"
      ],
      "execution_count": 13,
      "outputs": [
        {
          "output_type": "execute_result",
          "data": {
            "text/plain": [
              "67506"
            ]
          },
          "metadata": {},
          "execution_count": 13
        }
      ]
    },
    {
      "cell_type": "code",
      "metadata": {
        "id": "enfbbg4hOY_D"
      },
      "source": [
        "SortedWordsCount=DistinctWordsCount.map(lambda a: (a[1], a[0])).sortByKey()"
      ],
      "execution_count": 14,
      "outputs": []
    },
    {
      "cell_type": "code",
      "metadata": {
        "colab": {
          "base_uri": "https://localhost:8080/",
          "height": 0
        },
        "id": "x-8fWfWTOeeO",
        "outputId": "fda60818-4ad0-485d-efc0-3c45985abeeb"
      },
      "source": [
        "SortedWordsCount.top(20)"
      ],
      "execution_count": 15,
      "outputs": [
        {
          "output_type": "execute_result",
          "data": {
            "text/plain": [
              "[(517065, ''),\n",
              " (23242, 'the'),\n",
              " (19540, 'I'),\n",
              " (18297, 'and'),\n",
              " (15623, 'to'),\n",
              " (15544, 'of'),\n",
              " (12532, 'a'),\n",
              " (10824, 'my'),\n",
              " (9576, 'in'),\n",
              " (9081, 'you'),\n",
              " (7851, 'is'),\n",
              " (7531, 'that'),\n",
              " (7068, 'And'),\n",
              " (6948, 'not'),\n",
              " (6722, 'with'),\n",
              " (6218, 'his'),\n",
              " (6009, 'your'),\n",
              " (6002, 'be'),\n",
              " (5616, 'for'),\n",
              " (5236, 'have')]"
            ]
          },
          "metadata": {},
          "execution_count": 15
        }
      ]
    },
    {
      "cell_type": "code",
      "metadata": {
        "colab": {
          "base_uri": "https://localhost:8080/",
          "height": 0
        },
        "id": "ca9Zk9-iOgll",
        "outputId": "8ef28808-a3fb-44c7-a1fb-32b581354ce1"
      },
      "source": [
        "Sorted_final=SortedWordsCount.map(lambda a: (a[1], a[0]))\n",
        "Sorted_final.top(20)"
      ],
      "execution_count": 16,
      "outputs": [
        {
          "output_type": "execute_result",
          "data": {
            "text/plain": [
              "[('}', 2),\n",
              " (\"zwagger'd\", 1),\n",
              " ('zounds,', 1),\n",
              " ('zounds!', 1),\n",
              " ('zone,', 1),\n",
              " ('zodiacs', 1),\n",
              " ('zodiac', 1),\n",
              " ('zo', 1),\n",
              " ('zir.', 1),\n",
              " ('zir,', 1),\n",
              " ('zip', 1),\n",
              " ('zephyrs', 1),\n",
              " ('zenith', 1),\n",
              " ('zed!', 1),\n",
              " ('zeals,', 1),\n",
              " ('zealous', 6),\n",
              " ('zeal.', 4),\n",
              " ('zeal,', 7),\n",
              " ('zeal!', 1),\n",
              " ('zeal', 20)]"
            ]
          },
          "metadata": {},
          "execution_count": 16
        }
      ]
    },
    {
      "cell_type": "code",
      "metadata": {
        "id": "2tjOW1D-Ojhv"
      },
      "source": [
        ""
      ],
      "execution_count": null,
      "outputs": []
    }
  ]
}