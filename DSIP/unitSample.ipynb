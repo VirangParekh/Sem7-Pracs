{
 "cells": [
  {
   "cell_type": "code",
   "execution_count": 2,
   "source": [
    "import numpy as np\r\n",
    "import matplotlib.pyplot as plt"
   ],
   "outputs": [],
   "metadata": {}
  },
  {
   "cell_type": "code",
   "execution_count": 3,
   "source": [
    "n = range(-2, 6, 1)\r\n",
    "y = []\r\n",
    "for i in range(len(n)):\r\n",
    "    temp = (1 if n[i]>=0 else 0)\r\n",
    "    y.append(temp)\r\n",
    "    \r\n",
    "print(n)\r\n",
    "print(y)\r\n",
    "plt.stem(n, y)\r\n",
    "plt.axis([-2.1, 5.1, -0.1, 1.2])\r\n",
    "plt.show()\r\n"
   ],
   "outputs": [
    {
     "output_type": "stream",
     "name": "stdout",
     "text": [
      "range(-2, 6)\n",
      "[0, 0, 1, 1, 1, 1, 1, 1]\n"
     ]
    },
    {
     "output_type": "display_data",
     "data": {
      "text/plain": [
       "<Figure size 432x288 with 1 Axes>"
      ],
      "image/png": "[encoded data removed]"
     },
     "metadata": {
      "needs_background": "light"
     }
    }
   ],
   "metadata": {}
  },
  {
   "cell_type": "code",
   "execution_count": 4,
   "source": [
    "n = range(-2, 6, 1)\r\n",
    "y = []\r\n",
    "for i in range(len(n)):\r\n",
    "    temp = (n[i] if n[i]>=0 else 0)\r\n",
    "    y.append(temp)\r\n",
    "    \r\n",
    "print(list(n))\r\n",
    "print(y)\r\n",
    "\r\n",
    "plt.stem(n, y)\r\n",
    "plt.axis([-2.1, 5.1, -0.1, 5.2])\r\n",
    "plt.xlabel('  n--->  ')\r\n",
    "plt.ylabel('Amplitude ----> ')\r\n",
    "plt.title('Unit ramp Signal')\r\n",
    "plt.grid(True)\r\n",
    "plt.show()"
   ],
   "outputs": [
    {
     "output_type": "stream",
     "name": "stdout",
     "text": [
      "[-2, -1, 0, 1, 2, 3, 4, 5]\n",
      "[0, 0, 0, 1, 2, 3, 4, 5]\n"
     ]
    },
    {
     "output_type": "display_data",
     "data": {
      "text/plain": [
       "<Figure size 432x288 with 1 Axes>"
      ],
      "image/png": "[encoded data removed]"
     },
     "metadata": {
      "needs_background": "light"
     }
    }
   ],
   "metadata": {}
  },
  {
   "cell_type": "code",
   "execution_count": 6,
   "source": [
    "n = range(-2, 6, 1)\r\n",
    "y = []\r\n",
    "for i in range(len(n)):\r\n",
    "    temp = (1 if n[i]==0 else 0)\r\n",
    "    y.append(temp)\r\n",
    "    \r\n",
    "print(list(n))\r\n",
    "print(y)\r\n",
    "\r\n",
    "plt.stem(n, y)\r\n",
    "plt.axis([-2.1, 5.1, 0, 5.2])\r\n",
    "plt.xlabel('  n--->  ')\r\n",
    "plt.ylabel('Amplitude ----> ')\r\n",
    "plt.title('Unit sample Signal')\r\n",
    "plt.grid(True)\r\n",
    "plt.show()"
   ],
   "outputs": [
    {
     "output_type": "stream",
     "name": "stdout",
     "text": [
      "[-2, -1, 0, 1, 2, 3, 4, 5]\n",
      "[0, 0, 1, 0, 0, 0, 0, 0]\n"
     ]
    },
    {
     "output_type": "display_data",
     "data": {
      "text/plain": [
       "<Figure size 432x288 with 1 Axes>"
      ],
      "image/png": "[encoded data removed]"
     },
     "metadata": {
      "needs_background": "light"
     }
    }
   ],
   "metadata": {}
  },
  {
   "cell_type": "code",
   "execution_count": null,
   "source": [],
   "outputs": [],
   "metadata": {}
  }
 ],
 "metadata": {
  "orig_nbformat": 4,
  "language_info": {
   "name": "python",
   "version": "3.8.6",
   "mimetype": "text/x-python",
   "codemirror_mode": {
    "name": "ipython",
    "version": 3
   },
   "pygments_lexer": "ipython3",
   "nbconvert_exporter": "python",
   "file_extension": ".py"
  },
  "kernelspec": {
   "name": "python3",
   "display_name": "Python 3.8.6 64-bit"
  },
  "interpreter": {
   "hash": "c062d0fa8f834dfe0d680daaba93d7a40efccd0ea6a25bb697b77d8726f82f51"
  }
 },
 "nbformat": 4,
 "nbformat_minor": 2
}